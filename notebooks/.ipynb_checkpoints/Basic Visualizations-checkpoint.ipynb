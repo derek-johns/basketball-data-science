{
 "cells": [
  {
   "cell_type": "markdown",
   "id": "711ad52b",
   "metadata": {},
   "source": [
    "# Comparing total team points scored this season between all teams in the NBA."
   ]
  },
  {
   "cell_type": "markdown",
   "id": "3290a906",
   "metadata": {},
   "source": [
    "### Bar Chart: Uses bars to show comparisons between categories of data.  \n",
    "\n",
    "### 2 axis:\n",
    "1. numerical values\n",
    "2. categories being compared"
   ]
  },
  {
   "cell_type": "markdown",
   "id": "a391d546",
   "metadata": {},
   "source": [
    "# Setup"
   ]
  },
  {
   "cell_type": "code",
   "execution_count": 2,
   "id": "4eccd048",
   "metadata": {
    "scrolled": true
   },
   "outputs": [
    {
     "name": "stdout",
     "output_type": "stream",
     "text": [
      "\u001b[33mWARNING: The directory '/Users/derekjohnson/Library/Caches/pip' or its parent directory is not owned or is not writable by the current user. The cache has been disabled. Check the permissions and owner of that directory. If executing pip with sudo, you may want sudo's -H flag.\u001b[0m\n",
      "Collecting matplotlib\n",
      "  Downloading matplotlib-3.4.1-cp37-cp37m-macosx_10_9_x86_64.whl (7.2 MB)\n",
      "\u001b[K     |████████████████████████████████| 7.2 MB 8.3 MB/s eta 0:00:01\n",
      "\u001b[?25hCollecting cycler>=0.10\n",
      "  Downloading cycler-0.10.0-py2.py3-none-any.whl (6.5 kB)\n",
      "Requirement already satisfied: numpy>=1.16 in /Users/derekjohnson/Desktop/Data/basketball-data-science/basketball_data_science_env/lib/python3.7/site-packages (from matplotlib) (1.20.2)\n",
      "Requirement already satisfied: python-dateutil>=2.7 in /Users/derekjohnson/Desktop/Data/basketball-data-science/basketball_data_science_env/lib/python3.7/site-packages (from matplotlib) (2.8.1)\n",
      "Collecting kiwisolver>=1.0.1\n",
      "  Downloading kiwisolver-1.3.1-cp37-cp37m-macosx_10_9_x86_64.whl (61 kB)\n",
      "\u001b[K     |████████████████████████████████| 61 kB 10.0 MB/s ta 0:00:011\n",
      "\u001b[?25hCollecting pillow>=6.2.0\n",
      "  Downloading Pillow-8.2.0-cp37-cp37m-macosx_10_10_x86_64.whl (2.8 MB)\n",
      "\u001b[K     |████████████████████████████████| 2.8 MB 13.9 MB/s eta 0:00:01\n",
      "\u001b[?25hRequirement already satisfied: pyparsing>=2.2.1 in /Users/derekjohnson/Desktop/Data/basketball-data-science/basketball_data_science_env/lib/python3.7/site-packages (from matplotlib) (2.4.7)\n",
      "Requirement already satisfied: six in /Users/derekjohnson/Desktop/Data/basketball-data-science/basketball_data_science_env/lib/python3.7/site-packages (from cycler>=0.10->matplotlib) (1.15.0)\n",
      "Installing collected packages: pillow, kiwisolver, cycler, matplotlib\n",
      "Successfully installed cycler-0.10.0 kiwisolver-1.3.1 matplotlib-3.4.1 pillow-8.2.0\n",
      "\u001b[33mWARNING: You are using pip version 21.0.1; however, version 21.1 is available.\n",
      "You should consider upgrading via the '/Users/derekjohnson/Desktop/Data/basketball-data-science/basketball_data_science_env/bin/python3 -m pip install --upgrade pip' command.\u001b[0m\n",
      "Note: you may need to restart the kernel to use updated packages.\n"
     ]
    }
   ],
   "source": [
    "# install matplotlob\n",
    "%pip install matplotlib"
   ]
  },
  {
   "cell_type": "code",
   "execution_count": 7,
   "id": "75f9759f",
   "metadata": {},
   "outputs": [],
   "source": [
    "# Import dependencies\n",
    "import matplotlib.pyplot as plt\n",
    "import pandas as pd\n",
    "import os\n",
    "\n",
    "# Display plots inline\n",
    "%matplotlib inline"
   ]
  },
  {
   "cell_type": "markdown",
   "id": "057ecb96",
   "metadata": {},
   "source": [
    "# Get data\n",
    "\n",
    "Team csv files are located in the `..data/team_game_logs/` directory.  \n",
    "Example csv path: `../data/team_game_logs/TEAM_ABBREVIATION_game_logs.csv`"
   ]
  },
  {
   "cell_type": "code",
   "execution_count": 16,
   "id": "f78ad8b0",
   "metadata": {},
   "outputs": [
    {
     "data": {
      "text/plain": [
       "['PHI_game_logs.csv',\n",
       " 'LAC_game_logs.csv',\n",
       " 'SAS_game_logs.csv',\n",
       " 'PHX_game_logs.csv',\n",
       " 'MIN_game_logs.csv',\n",
       " 'NOP_game_logs.csv',\n",
       " 'DEN_game_logs.csv',\n",
       " 'MEM_game_logs.csv',\n",
       " 'BKN_game_logs.csv',\n",
       " 'CHI_game_logs.csv',\n",
       " 'POR_game_logs.csv',\n",
       " 'WAS_game_logs.csv',\n",
       " 'ATL_game_logs.csv',\n",
       " 'HOU_game_logs.csv',\n",
       " 'LAL_game_logs.csv',\n",
       " 'UTA_game_logs.csv',\n",
       " 'GSW_game_logs.csv',\n",
       " 'CLE_game_logs.csv',\n",
       " 'BOS_game_logs.csv',\n",
       " 'DAL_game_logs.csv',\n",
       " 'DET_game_logs.csv',\n",
       " 'MIA_game_logs.csv',\n",
       " 'NYK_game_logs.csv',\n",
       " 'IND_game_logs.csv',\n",
       " 'ORL_game_logs.csv',\n",
       " 'OKC_game_logs.csv',\n",
       " 'TOR_game_logs.csv',\n",
       " 'SAC_game_logs.csv',\n",
       " 'CHA_game_logs.csv',\n",
       " 'MIL_game_logs.csv']"
      ]
     },
     "execution_count": 16,
     "metadata": {},
     "output_type": "execute_result"
    }
   ],
   "source": [
    "# Get list of all team csv files\n",
    "all_csv = os.listdir('../data/team_game_logs')\n",
    "all_csv"
   ]
  },
  {
   "cell_type": "code",
   "execution_count": 17,
   "id": "7675e72f",
   "metadata": {},
   "outputs": [
    {
     "data": {
      "text/plain": [
       "30"
      ]
     },
     "execution_count": 17,
     "metadata": {},
     "output_type": "execute_result"
    }
   ],
   "source": [
    "len(all_csv)"
   ]
  },
  {
   "cell_type": "markdown",
   "id": "62451152",
   "metadata": {},
   "source": [
    "### Load csv from file."
   ]
  },
  {
   "cell_type": "code",
   "execution_count": 29,
   "id": "08ae727b",
   "metadata": {},
   "outputs": [
    {
     "data": {
      "text/plain": [
       "6695"
      ]
     },
     "execution_count": 29,
     "metadata": {},
     "output_type": "execute_result"
    }
   ],
   "source": [
    "# Format file name\n",
    "dir_name = '../data/team_game_logs/'\n",
    "full_fname = os.path.join(dir_name, all_csv[0])\n",
    "\n",
    "# Load csv to df\n",
    "df = pd.read_csv(full_fname)\n",
    "\n",
    "# Calculate total points scored\n",
    "total_pts = df['PTS'].sum()\n",
    "total_pts"
   ]
  },
  {
   "cell_type": "code",
   "execution_count": 28,
   "id": "a29fa235",
   "metadata": {},
   "outputs": [
    {
     "data": {
      "text/plain": [
       "'PHI'"
      ]
     },
     "execution_count": 28,
     "metadata": {},
     "output_type": "execute_result"
    }
   ],
   "source": [
    "# Get team abbreviation\n",
    "team_abbr = df['TEAM_ABBREVIATION'].unique()[0]\n",
    "team_abbr"
   ]
  },
  {
   "cell_type": "code",
   "execution_count": 32,
   "id": "2764292e",
   "metadata": {},
   "outputs": [],
   "source": [
    "pts = []\n",
    "teams = []\n",
    "for team in all_csv:\n",
    "    fname = os.path.join(dir_name, team)\n",
    "    df = pd.read_csv(fname)\n",
    "    total_pts = df['PTS'].sum()\n",
    "    team_abbr = df['TEAM_ABBREVIATION'].unique()[0]\n",
    "    pts.append(total_pts)\n",
    "    teams.append(team_abbr)"
   ]
  },
  {
   "cell_type": "code",
   "execution_count": 37,
   "id": "89e82b2a",
   "metadata": {},
   "outputs": [
    {
     "name": "stdout",
     "output_type": "stream",
     "text": [
      "[6695, 7123, 6388, 6738, 6650, 6790, 6798, 6608, 7117, 6596, 6748, 6747, 6825, 6451, 6485, 6891, 6781, 6138, 6722, 6472, 6448, 6385, 6400, 6593, 6145, 6334, 6610, 6763, 6469, 6923]\n"
     ]
    }
   ],
   "source": [
    "print(pts)"
   ]
  },
  {
   "cell_type": "code",
   "execution_count": 38,
   "id": "0c1ade1d",
   "metadata": {},
   "outputs": [
    {
     "name": "stdout",
     "output_type": "stream",
     "text": [
      "['PHI', 'LAC', 'SAS', 'PHX', 'MIN', 'NOP', 'DEN', 'MEM', 'BKN', 'CHI', 'POR', 'WAS', 'ATL', 'HOU', 'LAL', 'UTA', 'GSW', 'CLE', 'BOS', 'DAL', 'DET', 'MIA', 'NYK', 'IND', 'ORL', 'OKC', 'TOR', 'SAC', 'CHA', 'MIL']\n"
     ]
    }
   ],
   "source": [
    "print(teams)"
   ]
  },
  {
   "cell_type": "code",
   "execution_count": 78,
   "id": "1a432abf",
   "metadata": {},
   "outputs": [
    {
     "data": {
      "image/png": "[encoded data removed]",
      "text/plain": [
       "<Figure size 720x720 with 1 Axes>"
      ]
     },
     "metadata": {},
     "output_type": "display_data"
    }
   ],
   "source": [
    "\n",
    "plt.barh(teams, pts, color='Aqua')\n",
    "plt.title('Team vs Total Points Scored')\n",
    "plt.ylabel('Team')\n",
    "plt.xlabel('Total Points Scored')\n",
    "# plt.rcParams['figure.figsize'] = (10, 10)\n",
    "plt.grid(b=True, color='r')\n",
    "plt.show()"
   ]
  },
  {
   "cell_type": "code",
   "execution_count": null,
   "id": "d5c5e3a0",
   "metadata": {},
   "outputs": [],
   "source": []
  },
  {
   "cell_type": "code",
   "execution_count": null,
   "id": "c29d8303",
   "metadata": {},
   "outputs": [],
   "source": []
  }
 ],
 "metadata": {
  "kernelspec": {
   "display_name": "basketball-data-science-kernel",
   "language": "python",
   "name": "basketball_data_science_env"
  },
  "language_info": {
   "codemirror_mode": {
    "name": "ipython",
    "version": 3
   },
   "file_extension": ".py",
   "mimetype": "text/x-python",
   "name": "python",
   "nbconvert_exporter": "python",
   "pygments_lexer": "ipython3",
   "version": "3.7.3"
  }
 },
 "nbformat": 4,
 "nbformat_minor": 5
}
